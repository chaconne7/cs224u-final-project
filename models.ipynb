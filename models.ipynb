{
 "cells": [
  {
   "cell_type": "code",
   "execution_count": 1,
   "metadata": {
    "collapsed": false
   },
   "outputs": [],
   "source": [
    "import os\n",
    "import pickle\n",
    "import torch\n",
    "\n",
    "from constants import *\n",
    "from pytorch_pretrained_bert import BertTokenizer, BertModel, BertForMaskedLM"
   ]
  },
  {
   "cell_type": "code",
   "execution_count": 2,
   "metadata": {
    "collapsed": true
   },
   "outputs": [],
   "source": [
    "class ClozeModel: \n",
    "    \n",
    "    def __init__(self, model_type): \n",
    "        if (model_type == \"bert-base-uncased\"): \n",
    "            self.model = BertForMaskedLM.from_pretrained('bert-base-uncased')\n",
    "            self.tokenizer = BertTokenizer.from_pretrained('bert-base-uncased')\n",
    "        elif (model_type == \"bert-base-cased\"): \n",
    "            self.model = BertForMaskedLM.from_pretrained('bert-base-cased')\n",
    "            self.tokenizer = BertTokenizer.from_pretrained('bert-base-cased')\n",
    "        elif (model_type == 'gpt'): \n",
    "            self.model = OpenAIGPTModel.from_pretrained('openai-gpt')\n",
    "            self.tokenizer = OpenAIGPTTokenizer.from_pretrained('openai-gpt')\n",
    "        model.eval() \n",
    "        \n",
    "            "
   ]
  },
  {
   "cell_type": "code",
   "execution_count": 4,
   "metadata": {
    "collapsed": false
   },
   "outputs": [],
   "source": [
    "def predict_candidate_BERT(sentence, candidates):\n",
    "    tokenized_text = tokenizer.tokenize(sentence)\n",
    "    candidates = [tokenizer.tokenize(candidate)[0] for candidate in candidates]\n",
    "    masked_index = tokenized_text.index('[MASK]')\n",
    "\n",
    "    candidates = [x.lower() for x in candidates]\n",
    "    candidates_ids = tokenizer.convert_tokens_to_ids(candidates)\n",
    "\n",
    "    indexed_tokens = tokenizer.convert_tokens_to_ids(tokenized_text)\n",
    "\n",
    "    segments_ids = [0] * len(tokenized_text)\n",
    "\n",
    "    tokens_tensor = torch.tensor([indexed_tokens])\n",
    "    segments_tensors = torch.tensor([segments_ids])\n",
    "\n",
    "    predictions = language_model(tokens_tensor, segments_tensors)\n",
    "    predictions_candidates = predictions[0, masked_index, candidates_ids]\n",
    "    answer_idx = torch.argmax(predictions_candidates).item()\n",
    "    \n",
    "    print('The most likely word is: ', candidates[answer_idx])\n",
    "    \n",
    "    return candidates[answer_idx]\n",
    "    "
   ]
  },
  {
   "cell_type": "code",
   "execution_count": 5,
   "metadata": {
    "collapsed": true
   },
   "outputs": [],
   "source": [
    "def read_examples(self): \n",
    "    correct_count = 0 \n",
    "    total_count = 0 \n",
    "    for data_split in DATA_SPLITS: \n",
    "        for data_type in DATA_TYPES:\n",
    "            path = CLEANED_PATH + data_split + data_type \n",
    "            filenames = os.listdir(path)\n",
    "            for filename in filenames: \n",
    "                filename_path = path + filename\n",
    "                with open(filename_path, \"rb\") as pickle_file: \n",
    "                    examples = pickle.load(pickle_file)\n",
    "                    for example in examples: \n",
    "                        sentence = example['sentence']\n",
    "                        candidates = example['candidates']\n",
    "                        answer = example['answer']\n",
    "                        correct_answer = predict_candidate(sentence, candidates)\n",
    "                        total_count += 1\n",
    "                        if answer == correct_answer: \n",
    "                          correct_count += 1  \n",
    "                        \n",
    "    return correct_count, total_count\n",
    "                    "
   ]
  },
  {
   "cell_type": "code",
   "execution_count": 6,
   "metadata": {
    "collapsed": false
   },
   "outputs": [
    {
     "name": "stderr",
     "output_type": "stream",
     "text": [
      " 39%|███▉      | 159736832/407873900 [00:09<00:14, 17057082.42B/s]\n",
      "100%|██████████| 231508/231508 [00:00<00:00, 1100645.68B/s]\n"
     ]
    },
    {
     "ename": "NameError",
     "evalue": "name 'model' is not defined",
     "output_type": "error",
     "traceback": [
      "\u001b[1;31m---------------------------------------------------------------------------\u001b[0m",
      "\u001b[1;31mNameError\u001b[0m                                 Traceback (most recent call last)",
      "\u001b[1;32m<ipython-input-6-8c30709c192b>\u001b[0m in \u001b[0;36m<module>\u001b[1;34m()\u001b[0m\n\u001b[0;32m      1\u001b[0m \u001b[1;31m# tokenizer, language_model = setup_model(\"BERT\")\u001b[0m\u001b[1;33m\u001b[0m\u001b[1;33m\u001b[0m\u001b[0m\n\u001b[1;32m----> 2\u001b[1;33m \u001b[0mmodel\u001b[0m \u001b[1;33m=\u001b[0m \u001b[0mClozeModel\u001b[0m\u001b[1;33m(\u001b[0m\u001b[1;34m\"bert-base-uncased\"\u001b[0m\u001b[1;33m)\u001b[0m\u001b[1;33m\u001b[0m\u001b[0m\n\u001b[0m\u001b[0;32m      3\u001b[0m \u001b[0mmodel\u001b[0m\u001b[1;33m.\u001b[0m\u001b[0mread_examples\u001b[0m\u001b[1;33m(\u001b[0m\u001b[1;33m)\u001b[0m\u001b[1;33m\u001b[0m\u001b[0m\n",
      "\u001b[1;32m<ipython-input-2-d4df02955562>\u001b[0m in \u001b[0;36m__init__\u001b[1;34m(self, model_type)\u001b[0m\n\u001b[0;32m     11\u001b[0m             \u001b[0mself\u001b[0m\u001b[1;33m.\u001b[0m\u001b[0mmodel\u001b[0m \u001b[1;33m=\u001b[0m \u001b[0mOpenAIGPTModel\u001b[0m\u001b[1;33m.\u001b[0m\u001b[0mfrom_pretrained\u001b[0m\u001b[1;33m(\u001b[0m\u001b[1;34m'openai-gpt'\u001b[0m\u001b[1;33m)\u001b[0m\u001b[1;33m\u001b[0m\u001b[0m\n\u001b[0;32m     12\u001b[0m             \u001b[0mself\u001b[0m\u001b[1;33m.\u001b[0m\u001b[0mtokenizer\u001b[0m \u001b[1;33m=\u001b[0m \u001b[0mOpenAIGPTTokenizer\u001b[0m\u001b[1;33m.\u001b[0m\u001b[0mfrom_pretrained\u001b[0m\u001b[1;33m(\u001b[0m\u001b[1;34m'openai-gpt'\u001b[0m\u001b[1;33m)\u001b[0m\u001b[1;33m\u001b[0m\u001b[0m\n\u001b[1;32m---> 13\u001b[1;33m         \u001b[0mmodel\u001b[0m\u001b[1;33m.\u001b[0m\u001b[0meval\u001b[0m\u001b[1;33m(\u001b[0m\u001b[1;33m)\u001b[0m\u001b[1;33m\u001b[0m\u001b[0m\n\u001b[0m\u001b[0;32m     14\u001b[0m \u001b[1;33m\u001b[0m\u001b[0m\n\u001b[0;32m     15\u001b[0m \u001b[1;33m\u001b[0m\u001b[0m\n",
      "\u001b[1;31mNameError\u001b[0m: name 'model' is not defined"
     ]
    }
   ],
   "source": [
    "# tokenizer, language_model = setup_model(\"BERT\")\n",
    "model = ClozeModel(\"bert-base-uncased\")\n",
    "model.read_examples() "
   ]
  },
  {
   "cell_type": "code",
   "execution_count": null,
   "metadata": {
    "collapsed": true
   },
   "outputs": [],
   "source": [
    "with open(\"data/cleaned/train/high/high1495.pickle\", \"rb\") as pickle_file: \n",
    "    examples = pickle.load(pickle_file)\n",
    "    print(examples)"
   ]
  },
  {
   "cell_type": "code",
   "execution_count": null,
   "metadata": {
    "collapsed": true
   },
   "outputs": [],
   "source": []
  }
 ],
 "metadata": {
  "kernelspec": {
   "display_name": "Python 3",
   "language": "python",
   "name": "python3"
  },
  "language_info": {
   "codemirror_mode": {
    "name": "ipython",
    "version": 3
   },
   "file_extension": ".py",
   "mimetype": "text/x-python",
   "name": "python",
   "nbconvert_exporter": "python",
   "pygments_lexer": "ipython3",
   "version": "3.5.4"
  }
 },
 "nbformat": 4,
 "nbformat_minor": 1
}
