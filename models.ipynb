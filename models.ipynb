{
 "cells": [
  {
   "cell_type": "code",
   "execution_count": 3,
   "metadata": {
    "collapsed": false
   },
   "outputs": [],
   "source": [
    "import os\n",
    "import pickle\n",
    "import sys\n",
    "import torch\n",
    "\n",
    "from constants import *\n",
    "from pytorch_pretrained_bert import BertTokenizer, BertModel, BertForMaskedLM"
   ]
  },
  {
   "cell_type": "code",
   "execution_count": null,
   "metadata": {
    "collapsed": true
   },
   "outputs": [],
   "source": [
    "class ClozeModel(object): \n",
    "    \n",
    "    def __init__(self, model_type): \n",
    "        self.model_type = model_type\n",
    "        if (model_type == \"bert-base-uncased\"): \n",
    "            self.model = BertForMaskedLM.from_pretrained('bert-base-uncased')\n",
    "            self.tokenizer = BertTokenizer.from_pretrained('bert-base-uncased')\n",
    "        elif (model_type == \"bert-base-cased\"): \n",
    "            self.model = BertForMaskedLM.from_pretrained('bert-base-cased')\n",
    "            self.tokenizer = BertTokenizer.from_pretrained('bert-base-cased')\n",
    "        elif (model_type == 'gpt'): \n",
    "            self.model = OpenAIGPTModel.from_pretrained('openai-gpt')\n",
    "            self.tokenizer = OpenAIGPTTokenizer.from_pretrained('openai-gpt')\n",
    "        self.model.eval() \n",
    "        \n",
    "    def predict_candidate_GPT(self, sentence, candidates): \n",
    "        tokenized_text = self.tokenizer.tokenize(sentence)\n",
    "        tokenized_candidates = [self.tokenizer.tokenize(candidate)[0] for candidate in candidates]\n",
    "\n",
    "        print(tokenized_text)\n",
    "        masked_index = tokenized_text.index('MASK')\n",
    "\n",
    "        candidates_ids = self.tokenizer.convert_tokens_to_ids(tokenized_candidates)\n",
    "        token_ids = self.tokenizer.convert_tokens_to_ids(tokenized_text)\n",
    "\n",
    "        best_candidate = None\n",
    "        best_perp = sys.maxint\n",
    "        for i, candidate_id in enumerate(candidate_ids): \n",
    "            token_ids[masked_index] = candidate_id \n",
    "            tokens_tensor = torch.tensor([token_ids])\n",
    "\n",
    "            # If you have a GPU, put everything on cuda\n",
    "            tokens_tensor = tokens_tensor.to('cuda')\n",
    "            self.model.to('cuda')\n",
    "\n",
    "            predictions = self.model(tokens_tensor)\n",
    "\n",
    "            perplexity = math.exp(torch.sum(predictions) / len(tokens_tensor))\n",
    "            if perplexity > best_perp: \n",
    "                best_candidate = candidates[i]\n",
    "                best_perp = perplexity\n",
    "\n",
    "        print(\"The best candidate is: \", best_candidate)\n",
    "        return best_candidate\n",
    "       \n",
    "    def predict_candidate_BERT(self, sentence, candidates):\n",
    "        tokenized_text = self.tokenizer.tokenize(sentence)\n",
    "        candidates = [self.tokenizer.tokenize(candidate)[0] for candidate in candidates]\n",
    "        \n",
    "        masked_index = tokenized_text.index('mask')\n",
    "\n",
    "        candidates_ids = self.tokenizer.convert_tokens_to_ids(candidates)\n",
    "\n",
    "        indexed_tokens = self.tokenizer.convert_tokens_to_ids(tokenized_text)\n",
    "\n",
    "        segments_ids = [0] * len(tokenized_text)\n",
    "\n",
    "        tokens_tensor = torch.tensor([indexed_tokens])\n",
    "        segments_tensors = torch.tensor([segments_ids])\n",
    "\n",
    "        # If you have a GPU, put everything on cuda\n",
    "        tokens_tensor = tokens_tensor.to('cuda')\n",
    "        segments_tensors = segments_tensors.to('cuda')\n",
    "        self.model.to('cuda')\n",
    "\n",
    "        predictions = self.model(tokens_tensor, segments_tensors)\n",
    "        predictions_candidates = predictions[0, masked_index, candidates_ids]\n",
    "        answer_idx = torch.argmax(predictions_candidates).item()\n",
    "\n",
    "#         print('The most likely word is: ', candidates[answer_idx])\n",
    "\n",
    "        return candidates[answer_idx]\n",
    "\n",
    "    def predict_candidate(self, sentence, candidates):\n",
    "        if self.model_type == \"bert-base-uncased\" or self.model_type == \"bert-base-cased\": \n",
    "            self.predict_candidate_BERT(sentence, candidates)\n",
    "        elif self.model_type == \"gpt\": \n",
    "            self.predict_candidate_GPT(sentence, candidates)\n",
    "            \n",
    "    def read_examples(self): \n",
    "        correct_count = 0 \n",
    "        total_count = 0 \n",
    "        for data_split in DATA_SPLITS: \n",
    "            for data_type in DATA_TYPES:\n",
    "                path = CLEANED_PATH + data_split + data_type \n",
    "                filenames = os.listdir(path)\n",
    "                for filename in filenames: \n",
    "                    filename_path = path + filename\n",
    "                    with open(filename_path, \"rb\") as pickle_file: \n",
    "                        examples = pickle.load(pickle_file)\n",
    "                        for example in examples: \n",
    "                            sentence = example['sentence']\n",
    "                            candidates = example['candidates']\n",
    "                            answer = example['answer']\n",
    "                            correct_answer = self.predict_candidate(sentence, candidates)\n",
    "                            total_count += 1\n",
    "                            if total_count % 100 == 0: \n",
    "                                print(total_count) \n",
    "                            if answer == correct_answer: \n",
    "                              correct_count += 1  \n",
    "        return correct_count, total_count"
   ]
  },
  {
   "cell_type": "code",
   "execution_count": null,
   "metadata": {
    "collapsed": false
   },
   "outputs": [],
   "source": [
    "model = ClozeModel(\"bert-base-uncased\")\n",
    "correct_count, total_count = model.read_examples() "
   ]
  },
  {
   "cell_type": "code",
   "execution_count": null,
   "metadata": {
    "collapsed": true
   },
   "outputs": [],
   "source": [
    "print(\"correct count: \", correct_count)\n",
    "print(\"total count: \", total_count)"
   ]
  },
  {
   "cell_type": "code",
   "execution_count": null,
   "metadata": {
    "collapsed": true
   },
   "outputs": [],
   "source": [
    "with open(\"data/cleaned/train/high/high1495.pickle\", \"rb\") as pickle_file: \n",
    "    examples = pickle.load(pickle_file)\n",
    "    print(examples)"
   ]
  },
  {
   "cell_type": "code",
   "execution_count": null,
   "metadata": {
    "collapsed": true
   },
   "outputs": [],
   "source": []
  }
 ],
 "metadata": {
  "kernelspec": {
   "display_name": "Python 3",
   "language": "python",
   "name": "python3"
  },
  "language_info": {
   "codemirror_mode": {
    "name": "ipython",
    "version": 3
   },
   "file_extension": ".py",
   "mimetype": "text/x-python",
   "name": "python",
   "nbconvert_exporter": "python",
   "pygments_lexer": "ipython3",
   "version": "3.5.4"
  }
 },
 "nbformat": 4,
 "nbformat_minor": 1
}
